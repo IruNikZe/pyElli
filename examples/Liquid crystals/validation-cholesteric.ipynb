{
 "cells": [
  {
   "cell_type": "markdown",
   "id": "d5a18d5e-91e5-45b5-afa1-cb993194b278",
   "metadata": {},
   "source": [
    "# Example of a cholesteric liquid crystal\n",
    "\n",
    "Author: O. Castany, C. Molinaro, M. Müller"
   ]
  },
  {
   "cell_type": "code",
   "execution_count": 1,
   "id": "65c2b21c",
   "metadata": {},
   "outputs": [],
   "source": [
    "import numpy as np\n",
    "from numpy.lib.scimath import sqrt\n",
    "import elli\n",
    "import elli.plot.structure as elliplot\n",
    "from scipy.constants import c, pi\n",
    "import matplotlib.pyplot as plt"
   ]
  },
  {
   "cell_type": "markdown",
   "id": "68f65d00",
   "metadata": {},
   "source": [
    "## Set parameters"
   ]
  },
  {
   "cell_type": "code",
   "execution_count": 2,
   "id": "31c30e6e",
   "metadata": {},
   "outputs": [],
   "source": [
    "# Materials\n",
    "front = back = elli.IsotropicMaterial(elli.DispersionLess(1.6))\n",
    "\n",
    "# Liquid crystal oriented along the x direction\n",
    "(no, ne) = (1.5, 1.7)\n",
    "Dn = ne-no\n",
    "n_med = (ne + no)/2\n",
    "LC = elli.UniaxialMaterial(elli.DispersionLess(no), elli.DispersionLess(ne))  #  ne along z\n",
    "R = elli.rotation_v_theta(elli.e_y, 90)  #  rotation round y\n",
    "LC.set_rotation(R) #  apply rotation from z to x\n",
    "# Cholesteric pitch:\n",
    "p = 650\n",
    "# One half turn of a right-handed helix:\n",
    "TN = elli.TwistedLayer(LC, p/2, 25, 180)\n",
    "\n",
    "# Inhomogeneous layer, repeated layer, and structure\n",
    "N = 5  #  number half pitch repetitions\n",
    "h = N * p/2\n",
    "L = elli.RepeatedLayers([TN], N)\n",
    "s = elli.Structure(front, [L], back)\n",
    "\n",
    "# Normal incidence:\n",
    "Kx = 0.0\n",
    "\n",
    "# Calculation parameters\n",
    "lbda_min, lbda_max = 600, 1500  #  (nm)\n",
    "lbda = np.linspace(lbda_min, lbda_max, 100)\n",
    "k0 = 2*pi/(lbda*1e-9)"
   ]
  },
  {
   "cell_type": "markdown",
   "id": "79dc23b1",
   "metadata": {
    "lines_to_next_cell": 0
   },
   "source": [
    "## Analytical calculation for the power reflection coefficient"
   ]
  },
  {
   "cell_type": "code",
   "execution_count": 3,
   "id": "6e07c0cd",
   "metadata": {},
   "outputs": [],
   "source": [
    "q = 2*pi/p/1e-9\n",
    "alpha = q/k0\n",
    "epsilon = (no**2+ne**2)/2\n",
    "delta = (no**2-ne**2)/2\n",
    "n2 = sqrt((alpha**2 + epsilon - sqrt(4*epsilon*alpha**2+delta**2)))\n",
    "w = 1j*(ne**2-n2**2-alpha**2)/(2*alpha*n2)  # not k0/c\n",
    "A = -2j*k0*n2*h*1e-9\n",
    "\n",
    "R_th = np.abs((w**2+1)*(1-np.exp(-2j*k0*n2*h*1e-9))\n",
    "           / (2*w*(1+np.exp(-2j*k0*n2*h*1e-9))\n",
    "              - 1j*(w**2-1)*(1-np.exp(-2j*k0*n2*h*1e-9))))**2"
   ]
  },
  {
   "cell_type": "markdown",
   "id": "836228a7",
   "metadata": {
    "lines_to_next_cell": 0
   },
   "source": [
    "## Calculation with Berreman4x4"
   ]
  },
  {
   "cell_type": "code",
   "execution_count": 4,
   "id": "d07f0947",
   "metadata": {},
   "outputs": [],
   "source": [
    "data = s.evaluate(lbda, 0)\n",
    "\n",
    "# Jones matrices for the circular wave basis\n",
    "# Right-circular wave is reflected in the stop-band\n",
    "# R_LR, T_LR close to zero\n",
    "R_RR = data.Rc[:, 1, 1]"
   ]
  },
  {
   "cell_type": "markdown",
   "id": "4f4aa7f7",
   "metadata": {
    "lines_to_next_cell": 0
   },
   "source": [
    "## Plotting"
   ]
  },
  {
   "cell_type": "code",
   "execution_count": 5,
   "id": "b2afb496",
   "metadata": {},
   "outputs": [
    {
     "data": {
      "image/png": "[encoded data removed]",
      "text/plain": [
       "<Figure size 432x288 with 1 Axes>"
      ]
     },
     "metadata": {
      "needs_background": "light"
     },
     "output_type": "display_data"
    }
   ],
   "source": [
    "fig = plt.figure()\n",
    "ax = fig.add_subplot(1, 1, 1)\n",
    "\n",
    "ax.plot(lbda, R_RR, label='R_RR')\n",
    "ax.plot(lbda, R_th, 'r', label='R_th')\n",
    "\n",
    "ax.legend(loc='center right', bbox_to_anchor=(1.00, 0.50))\n",
    "\n",
    "ax.set_title(\"Right-handed Cholesteric Liquid Crystal, \" +\n",
    "             \"{:.1f} helix pitches\".format(N/2.))\n",
    "ax.set_xlabel(r\"Wavelength $\\lambda_0$ (m)\")\n",
    "ax.set_ylabel(r\"Power reflexion $R$\")\n",
    "fmt = ax.xaxis.get_major_formatter()\n",
    "fmt.set_powerlimits((-3, 3))\n",
    "\n",
    "plt.show()"
   ]
  },
  {
   "cell_type": "code",
   "execution_count": 6,
   "id": "58f50b36-ac62-45d0-95c4-fe53fa39aa8b",
   "metadata": {},
   "outputs": [
    {
     "data": {
      "text/plain": [
       "<AxesSubplot:xlabel='z (nm)', ylabel=\"n'\">"
      ]
     },
     "execution_count": 6,
     "metadata": {},
     "output_type": "execute_result"
    },
    {
     "data": {
      "image/png": "[encoded data removed]",
      "text/plain": [
       "<Figure size 576x216 with 1 Axes>"
      ]
     },
     "metadata": {
      "needs_background": "light"
     },
     "output_type": "display_data"
    }
   ],
   "source": [
    "elliplot.draw_structure(s)"
   ]
  },
  {
   "cell_type": "code",
   "execution_count": null,
   "id": "784f3dff-5a1e-48e9-91d2-3fbd837f2751",
   "metadata": {},
   "outputs": [],
   "source": []
  }
 ],
 "metadata": {
  "jupytext": {
   "cell_metadata_filter": "-all",
   "encoding": "# encoding: utf-8",
   "executable": "/usr/bin/python",
   "formats": "ipynb,auto:hydrogen",
   "main_language": "python",
   "notebook_metadata_filter": "-all"
  },
  "kernelspec": {
   "display_name": "Python 3 (ipykernel)",
   "language": "python",
   "name": "python3"
  },
  "language_info": {
   "codemirror_mode": {
    "name": "ipython",
    "version": 3
   },
   "file_extension": ".py",
   "mimetype": "text/x-python",
   "name": "python",
   "nbconvert_exporter": "python",
   "pygments_lexer": "ipython3",
   "version": "3.9.8"
  }
 },
 "nbformat": 4,
 "nbformat_minor": 5
}
