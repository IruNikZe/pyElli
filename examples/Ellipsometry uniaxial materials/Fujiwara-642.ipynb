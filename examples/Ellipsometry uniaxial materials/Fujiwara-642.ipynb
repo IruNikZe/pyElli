{
 "cells": [
  {
   "cell_type": "markdown",
   "id": "547eb7b4",
   "metadata": {},
   "source": [
    "# We reproduce results from section 6.4.2 in 'Spectroscopic Ellipsometry', by H. Fujiwara\n",
    "Author: O. Castany, M. Müller\n",
    "\n",
    "Verification of the code against results presented in Fujiwara's book\n",
    "p. 241 (section 6.4.2). References in the comments refer to this book.\n",
    "Expected results are indicated after the commands. They are identical\n",
    "with Fujiwara's results, except for a sign convention for Erp."
   ]
  },
  {
   "cell_type": "code",
   "execution_count": 1,
   "id": "c49c1a2a",
   "metadata": {},
   "outputs": [],
   "source": [
    "import numpy as np\n",
    "import berreman4x4 as bm\n",
    "from scipy.constants import pi\n",
    "import matplotlib.pyplot as pyplot\n",
    "import scipy.linalg\n",
    "\n",
    "# reduces the number of printed figures in numbers:\n",
    "np.set_printoptions(suppress=True, precision=4)\n",
    "bm.settings['ExpmBackend']='pytorch'"
   ]
  },
  {
   "cell_type": "markdown",
   "id": "9e786f70",
   "metadata": {},
   "source": [
    "## Example: Air / anisotropic film / silicon substrate"
   ]
  },
  {
   "cell_type": "code",
   "execution_count": 2,
   "id": "4d1deaee",
   "metadata": {},
   "outputs": [],
   "source": [
    "n_i = 1.0       # incident medium is air\n",
    "n_o = 2.0       # ordinary index of thin layer\n",
    "n_e = 2.5       # extraordinary index of thin layer\n",
    "lbda = 620      # Wavelength for evaluation\n",
    "Phi_i = 70      # 70° indicence angle (degree)\n",
    "d = 0.1e-6      # thin layer thickness (m)\n",
    "# Orientation of the anisotropy of the thin layer\n",
    "Phi_E = 45      # 1st Euler angle\n",
    "Theta_E = 45    # 2nd Eulet angle"
   ]
  },
  {
   "cell_type": "markdown",
   "id": "a028df18",
   "metadata": {},
   "source": [
    "## Permittivity tensor of the anisotropic film (eq 6.63, p. 241):"
   ]
  },
  {
   "cell_type": "code",
   "execution_count": 3,
   "id": "0061ca18",
   "metadata": {},
   "outputs": [
    {
     "name": "stdout",
     "output_type": "stream",
     "text": [
      "[[[ 4.5625+0.j -0.5625+0.j  0.7955+0.j]\n",
      "  [-0.5625+0.j  4.5625+0.j -0.7955+0.j]\n",
      "  [ 0.7955+0.j -0.7955+0.j  5.125 +0.j]]]\n"
     ]
    }
   ],
   "source": [
    "filmMaterial = bm.UniaxialMaterial(bm.DispersionLess(n_o),\n",
    "                                      bm.DispersionLess(n_e))\n",
    "R = bm.rotation_Euler((Phi_E, Theta_E, 0))\n",
    "filmMaterial.setRotation(R)\n",
    "print(filmMaterial.getTensor(lbda))"
   ]
  },
  {
   "cell_type": "markdown",
   "id": "74d6bbda",
   "metadata": {},
   "source": [
    "Should yield:\n",
    "```python\n",
    "[[[ 4.5625, -0.5625,  0.7955],\n",
    "  [-0.5625,  4.5625, -0.7955],\n",
    "  [ 0.7955, -0.7955,  5.125 ]]]\n",
    "```"
   ]
  },
  {
   "cell_type": "code",
   "execution_count": 4,
   "id": "382abbcb",
   "metadata": {},
   "outputs": [
    {
     "name": "stdout",
     "output_type": "stream",
     "text": [
      "Kx: 0.9397\n"
     ]
    }
   ],
   "source": [
    "air = bm.IsotropicMaterial(bm.DispersionLess(n_i))\n",
    "Kx = n_i * np.sin(np.deg2rad(Phi_i))\n",
    "\n",
    "print(\"Kx: {:.4f}\".format(Kx))"
   ]
  },
  {
   "cell_type": "markdown",
   "id": "a004020f",
   "metadata": {},
   "source": [
    "```python\n",
    "Kx = 0.9397\n",
    "```"
   ]
  },
  {
   "cell_type": "code",
   "execution_count": 5,
   "id": "5fc1d1a9",
   "metadata": {},
   "outputs": [
    {
     "name": "stdout",
     "output_type": "stream",
     "text": [
      "\n",
      "Delta matrix:\n",
      "[[-0.1459+0.j  0.1459-0.j  0.    +0.j  0.8277+0.j]\n",
      " [ 0.    +0.j  0.    +0.j -1.    +0.j  0.    +0.j]\n",
      " [ 0.439 +0.j -3.556 +0.j  0.    +0.j -0.1459+0.j]\n",
      " [ 4.439 +0.j -0.439 +0.j  0.    +0.j -0.1459+0.j]]\n",
      "\n",
      "Eigenvalues of the Delta matrix (eq 6.64, p.241):\n",
      "[-2.174  -1.7655  1.7655  1.8822]\n"
     ]
    }
   ],
   "source": [
    "film = bm.Layer(filmMaterial, (d, 'm'))\n",
    "epsilon = filmMaterial.getTensor(lbda)\n",
    "Delta = bm.math.buildDeltaMatrix(Kx, epsilon)[0]\n",
    "print(\"\\nDelta matrix:\")\n",
    "print(Delta)\n",
    "\n",
    "q, Psi = scipy.linalg.eig(Delta)\n",
    "print(\"\\nEigenvalues of the Delta matrix (eq 6.64, p.241):\")\n",
    "print(np.real(q))"
   ]
  },
  {
   "cell_type": "markdown",
   "id": "53c5497b",
   "metadata": {},
   "source": [
    "```python\n",
    "# Delta matrix:\n",
    "[[-0.1459,  0.1459,  0.    ,  0.8277],\n",
    " [ 0.    ,  0.    , -1.    ,  0.    ],\n",
    " [ 0.439 , -3.556 ,  0.    , -0.1459],\n",
    " [ 4.439 , -0.439 ,  0.    , -0.1459]]\n",
    "\n",
    "# Eigenvalues of Delta\n",
    "[-2.174 , -1.7655,  1.7655,  1.8822]\n",
    "```"
   ]
  },
  {
   "cell_type": "code",
   "execution_count": 6,
   "id": "24e1ffc5",
   "metadata": {
    "scrolled": true
   },
   "outputs": [
    {
     "name": "stdout",
     "output_type": "stream",
     "text": [
      "\n",
      "Propagation matrix (eq 6.66, p. 242):\n",
      "[[[-0.3516-0.0572j  0.0906-0.001j   0.0334+0.0437j  0.0561-0.3971j]\n",
      "  [ 0.1042+0.0795j -0.3258-0.0114j  0.0037+0.5017j -0.0334-0.0437j]\n",
      "  [ 0.1617-0.0145j -0.0166+1.7533j -0.3258-0.0114j -0.0906+0.001j ]\n",
      "  [ 0.3001-2.1207j -0.1617+0.0145j -0.1042-0.0795j -0.3516-0.0572j]]]\n"
     ]
    }
   ],
   "source": [
    "Tp = bm.math.hs_propagator_Pade(bm.math.buildDeltaMatrix(Kx, epsilon), -d, np.array([lbda]))\n",
    "print(\"\\nPropagation matrix (eq 6.66, p. 242):\")\n",
    "print(Tp)"
   ]
  },
  {
   "cell_type": "markdown",
   "id": "7a22f90d",
   "metadata": {},
   "source": [
    "```python\n",
    "[[-0.353-0.057j,  0.091-0.001j,  0.033+0.044j,  0.056-0.397j],\n",
    " [ 0.104+0.08j , -0.327-0.011j,  0.004+0.502j, -0.033-0.044j],\n",
    " [ 0.162-0.014j, -0.017+1.753j, -0.327-0.011j, -0.091+0.001j],\n",
    " [ 0.300-2.12j , -0.162+0.014j, -0.104-0.08j , -0.353-0.057j]]\n",
    "```"
   ]
  },
  {
   "cell_type": "code",
   "execution_count": 7,
   "id": "0c8601ad",
   "metadata": {},
   "outputs": [
    {
     "name": "stdout",
     "output_type": "stream",
     "text": [
      "\n",
      "Jones reflexion matrix (p. 243):\n",
      "[[[ 0.3107+0.1606j  0.1067+0.0019j]\n",
      "  [ 0.0422-0.0359j -0.5512+0.1507j]]]\n",
      "\n",
      "Ellipsometry parameters (p. 243):\n",
      "Psi\n",
      "[[[31.4728 10.5742]\n",
      "  [ 5.5361 45.    ]]]\n",
      "Delta\n",
      "[[[ -42.629   -16.3048]\n",
      "  [-154.8662    0.    ]]]\n"
     ]
    }
   ],
   "source": [
    "n_t = 3.898 + 0.016j  #  refractive index of substrate\n",
    "silicon = bm.IsotropicMaterial(bm.DispersionLess(n_t))\n",
    "s = bm.Structure(air, [film], silicon)\n",
    "result = s.evaluate(np.array([lbda]), Phi_i)\n",
    "#T = s.getStructureMatrix(Kx, k0)\n",
    "#print(\"\\nTransfer matrix T (eq 6.67, p. 242):\")\n",
    "#print(T)\n",
    "\"\"\"                                                                 (eq 6.67)\n",
    "Fujiwara uses the ellipsometry convention for the orientation of the 'p'\n",
    "polarized electric fields (see figures 2.15 and 6.14). With my convention,\n",
    "Erp is reversed. Consequently, T_{4j} and T_{i4} have a reversed sign, except\n",
    "T_{44}.\n",
    "T =\n",
    "matrix([[-1.949-3.588j,  1.671-1.548j,  0.273-0.03j , -0.630+0.147j],\n",
    "        [ 1.617+1.679j, -1.992+3.434j, -0.301-0.064j,  0.861+0.101j],\n",
    "        [ 0.065-0.086j,  0.039+0.097j, -0.712-3.485j,  0.004+1.265j],\n",
    "        [-0.167-0.403j,  0.593+0.386j,  0.370-1.199j, -1.662+3.093j]])\n",
    "\"\"\"\n",
    "Jr = result.jones_matrix_r  #  Jones reflexion matrix\n",
    "print(\"\\nJones reflexion matrix (p. 243):\")\n",
    "print(Jr)\n",
    "\n",
    "print(\"\\nEllipsometry parameters (p. 243):\")\n",
    "(Psi, Delta) = (result.psiMat, result.deltaMat)\n",
    "print(\"Psi\\n\" + str(Psi))\n",
    "print(\"Delta\\n\" + str(Delta))"
   ]
  },
  {
   "cell_type": "markdown",
   "id": "b8f61931",
   "metadata": {},
   "source": [
    "```python\n",
    "Jr =\n",
    "[[[ 0.310+0.161j,  0.107+0.002j],\n",
    "  [ 0.042-0.036j, -0.552+0.151j]]]\n",
    "#The first line, [r_pp, r_ps], has reversed sign compared to Fujiwara's result, due to the different convention for Erp.\n",
    "Ellipsometry parameters:\n",
    "Psi                         Delta\n",
    "[[ 31.4419  10.5641]         [[ -42.734   -16.4123]\n",
    " [  5.5332  45.    ]]         [-155.024     0.    ]]\n",
    "```"
   ]
  },
  {
   "cell_type": "code",
   "execution_count": 8,
   "id": "4808b18d",
   "metadata": {},
   "outputs": [
    {
     "name": "stdout",
     "output_type": "stream",
     "text": [
      "\n",
      "We reproduce figure 6.19, p. 242...\n"
     ]
    }
   ],
   "source": [
    "# We now reproduce figure 6.19:\n",
    "print(\"\\nWe reproduce figure 6.19, p. 242...\")"
   ]
  },
  {
   "cell_type": "code",
   "execution_count": 9,
   "id": "fed4db71",
   "metadata": {},
   "outputs": [],
   "source": [
    "Theta_E_list = [0, 45, 90]\n",
    "Phi_E_list = np.linspace(0, 180, 36*2+1)\n",
    "\n",
    "Psi_pp = []\n",
    "Delta_pp = []\n",
    "Psi_ps = []\n",
    "Delta_ps = []"
   ]
  },
  {
   "cell_type": "code",
   "execution_count": 10,
   "id": "ff9242ab",
   "metadata": {},
   "outputs": [],
   "source": [
    "for Theta_E in Theta_E_list:\n",
    "    for Phi_E in Phi_E_list:\n",
    "        R = bm.rotation_Euler((Phi_E, Theta_E, 0))\n",
    "        filmMaterial.setRotation(R)\n",
    "        data = s.evaluate(np.array([620]), Phi_i)\n",
    "        Psi_pp.append(data.psiMat[0,0,0])\n",
    "        Delta_pp.append(data.deltaMat[0,0,0])\n",
    "        Psi_ps.append(data.psiMat[0,0,1])\n",
    "        Delta_ps.append(data.deltaMat[0,0,1])"
   ]
  },
  {
   "cell_type": "code",
   "execution_count": 11,
   "id": "b19095ab",
   "metadata": {},
   "outputs": [],
   "source": [
    "Psi_pp = np.array(Psi_pp)\n",
    "Psi_pp = Psi_pp.reshape(3, 73).T\n",
    "\n",
    "Psi_ps = np.array(Psi_ps)\n",
    "Psi_ps = Psi_ps.reshape(3, 73).T\n",
    "\n",
    "Delta_pp = np.array(Delta_pp)\n",
    "Delta_pp = Delta_pp.reshape(3, 73).T\n",
    "\n",
    "Delta_ps = np.array(Delta_ps)\n",
    "Delta_ps = Delta_ps.reshape(3, 73).T"
   ]
  },
  {
   "cell_type": "code",
   "execution_count": 13,
   "id": "a62f5312",
   "metadata": {},
   "outputs": [
    {
     "data": {
      "image/png": "[encoded data removed]",
      "text/plain": [
       "<Figure size 432x288 with 4 Axes>"
      ]
     },
     "metadata": {
      "needs_background": "light"
     },
     "output_type": "display_data"
    }
   ],
   "source": [
    "fig = pyplot.figure()\n",
    "# Plot curves for the three values of Theta_E\n",
    "pyplot.rcParams['axes.prop_cycle'] = pyplot.cycler('color', 'kbg')\n",
    "ax1 = fig.add_subplot(2, 2, 1)\n",
    "ax1.plot(Phi_E_list, Psi_pp)\n",
    "ax1.set_ylabel(r\"$\\Psi_{pp}$\")\n",
    "\n",
    "ax2 = fig.add_subplot(2, 2, 2)\n",
    "ax2.plot(Phi_E_list, Delta_pp)\n",
    "ax2.set_ylabel(r\"$\\Delta_{pp}$\")\n",
    "\n",
    "# Plot curves for two values of Theta_E\n",
    "pyplot.rcParams['axes.prop_cycle'] = pyplot.cycler('color', 'kbg')\n",
    "ax3 = fig.add_subplot(2, 2, 3)\n",
    "ax3.plot(Phi_E_list, Psi_ps)\n",
    "ax3.set_ylabel(r\"$\\Psi_{ps}$\")\n",
    "ax3.set_xlabel(r\"$\\phi_E$\")\n",
    "\n",
    "ax4 = fig.add_subplot(2, 2, 4)\n",
    "ax4.plot(Phi_E_list, Delta_ps)\n",
    "ax4.set_ylabel(r\"$\\Delta_{ps}$\")\n",
    "ax4.set_xlabel(r\"$\\phi_E$\")\n",
    "\n",
    "pyplot.tight_layout()\n",
    "pyplot.show()"
   ]
  },
  {
   "cell_type": "code",
   "execution_count": null,
   "id": "d33f7a6e",
   "metadata": {},
   "outputs": [],
   "source": []
  }
 ],
 "metadata": {
  "jupytext": {
   "cell_metadata_filter": "-all",
   "encoding": "# encoding: utf-8",
   "executable": "/usr/bin/python3",
   "formats": "ipynb,auto:hydrogen",
   "main_language": "python",
   "notebook_metadata_filter": "-all"
  },
  "kernelspec": {
   "display_name": "Python 3 (ipykernel)",
   "language": "python",
   "name": "python3"
  },
  "language_info": {
   "codemirror_mode": {
    "name": "ipython",
    "version": 3
   },
   "file_extension": ".py",
   "mimetype": "text/x-python",
   "name": "python",
   "nbconvert_exporter": "python",
   "pygments_lexer": "ipython3",
   "version": "3.8.8"
  }
 },
 "nbformat": 4,
 "nbformat_minor": 5
}
