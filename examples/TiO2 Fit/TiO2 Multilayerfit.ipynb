{
 "cells": [
  {
   "cell_type": "code",
   "execution_count": 8,
   "id": "complimentary-longer",
   "metadata": {},
   "outputs": [],
   "source": [
    "import berreman4x4 as bm\n",
    "from lmfit import minimize, Parameters, fit_report\n",
    "\n",
    "bm.settings['ExpmBackend'] = 'tensorflow'\n",
    "bm.settings['solver'] = 'berreman4x4'"
   ]
  },
  {
   "cell_type": "markdown",
   "id": "fourth-turner",
   "metadata": {},
   "source": [
    "# Load data\n",
    "Load data collected with Sentech Ellipsometer and cut the spectral range (to use Si Aspnes file)\n",
    "\n",
    "The sample is an ALD grown TiO2 sample (with 400 cycles) on commercially available SiO2 / Si substrate."
   ]
  },
  {
   "cell_type": "code",
   "execution_count": 2,
   "id": "elect-disorder",
   "metadata": {},
   "outputs": [],
   "source": [
    "tss = bm.SpectraRay.read_psi_delta_file('TiO2_400cycles.txt').loc[400:800]\n",
    "ρ = bm.SpectraRay.read_rho('TiO2_400cycles.txt').loc[400:800]"
   ]
  },
  {
   "cell_type": "markdown",
   "id": "5edc6a65-9319-4267-8f92-3552f6f69ae8",
   "metadata": {},
   "source": [
    "# Estimate Parameters and build model"
   ]
  },
  {
   "cell_type": "code",
   "execution_count": 3,
   "id": "9f600c98-dbc9-4772-9d5f-8ed74c997b91",
   "metadata": {},
   "outputs": [],
   "source": [
    "params = Parameters()\n",
    "params.add('SiO2_n0', value=1.452, min=-100, max=100, vary=False)\n",
    "params.add('SiO2_n1', value=36.0, min=-40000, max=40000, vary=False)\n",
    "params.add('SiO2_n2', value=0, min=-40000, max=40000, vary=False)\n",
    "params.add('SiO2_k0', value=0, min=-100, max=100, vary=False)\n",
    "params.add('SiO2_k1', value=0, min=-40000, max=40000, vary=False)\n",
    "params.add('SiO2_k2', value=0, min=-40000, max=40000, vary=False)\n",
    "params.add('SiO2_d', value=276.36, min=0, max=40000, vary=False)\n",
    "\n",
    "params.add('TiO2_n0', value=2.236, min=-100, max=100, vary=True)\n",
    "params.add('TiO2_n1', value=451, min=-40000, max=40000, vary=True)\n",
    "params.add('TiO2_n2', value=251, min=-40000, max=40000, vary=True)\n",
    "params.add('TiO2_k0', value=0, min=-100, max=100, vary=False)\n",
    "params.add('TiO2_k1', value=0, min=-40000, max=40000, vary=False)\n",
    "params.add('TiO2_k2', value=0, min=-40000, max=40000, vary=False)\n",
    "\n",
    "params.add('TiO2_d', value=20, min=0, max=40000, vary=True)"
   ]
  },
  {
   "cell_type": "code",
   "execution_count": 4,
   "id": "f432f126-b688-426a-8b94-abedd44f0e78",
   "metadata": {},
   "outputs": [
    {
     "data": {
      "application/vnd.jupyter.widget-view+json": {
       "model_id": "257feb277f334ea592b1810bb6e97488",
       "version_major": 2,
       "version_minor": 0
      },
      "text/plain": [
       "VBox(children=(HBox(children=(BoundedFloatText(value=1.452, description='SiO2_n0', min=-100.0), BoundedFloatTe…"
      ]
     },
     "metadata": {},
     "output_type": "display_data"
    }
   ],
   "source": [
    "@bm.manual_parameters(tss, params)\n",
    "def model(lbda, params):\n",
    "    sr = bm.SpectraRay('./')\n",
    "    Si = bm.IsotropicMaterial(sr.loadDispersionTable('Si_Aspnes.mat'))\n",
    "\n",
    "    SiO2 = bm.IsotropicMaterial(bm.DispersionCauchy(params['SiO2_n0'], \n",
    "                                                    params['SiO2_n1'], \n",
    "                                                    params['SiO2_n2'], \n",
    "                                                    params['SiO2_k0'], \n",
    "                                                    params['SiO2_k1'], \n",
    "                                                    params['SiO2_k2']))\n",
    "    TiO2 = bm.IsotropicMaterial(bm.DispersionCauchy(params['TiO2_n0'], \n",
    "                                                    params['TiO2_n1'], \n",
    "                                                    params['TiO2_n2'], \n",
    "                                                    params['TiO2_k0'], \n",
    "                                                    params['TiO2_k1'], \n",
    "                                                    params['TiO2_k2']))\n",
    "    \n",
    "    Layer = [bm.Layer(TiO2, params['TiO2_d']), \n",
    "             bm.Layer(SiO2, params['SiO2_d'])]\n",
    "\n",
    "    return bm.Structure(bm.AIR, Layer, Si).evaluate(lbda, 70)"
   ]
  },
  {
   "cell_type": "markdown",
   "id": "outdoor-cisco",
   "metadata": {},
   "source": [
    "# Fit to experimental data"
   ]
  },
  {
   "cell_type": "code",
   "execution_count": 5,
   "id": "8d0a9936-a4c6-497e-809c-aa5e17234067",
   "metadata": {},
   "outputs": [],
   "source": [
    "out = model['fit'](ρ, method='leastsq')"
   ]
  },
  {
   "cell_type": "markdown",
   "id": "affiliated-retail",
   "metadata": {},
   "source": [
    "# Show fits"
   ]
  },
  {
   "cell_type": "code",
   "execution_count": 6,
   "id": "d829a852-1e1e-445b-a6b5-eaaa2ebaf47e",
   "metadata": {},
   "outputs": [
    {
     "data": {
      "application/vnd.jupyter.widget-view+json": {
       "model_id": "6b650eaa38cf47c98c7042ba66e949f4",
       "version_major": 2,
       "version_minor": 0
      },
      "text/plain": [
       "FigureWidget({\n",
       "    'data': [{'hovertemplate': 'variable=Ψ<br>Wavelength=%{x}<br>value=%{y}<extra></extra>',\n",
       "  …"
      ]
     },
     "metadata": {},
     "output_type": "display_data"
    }
   ],
   "source": [
    "model['plot'](out.params)"
   ]
  },
  {
   "cell_type": "code",
   "execution_count": 7,
   "id": "1af02235-1a64-4907-85a9-89a22dece7cd",
   "metadata": {},
   "outputs": [
    {
     "data": {
      "application/vnd.jupyter.widget-view+json": {
       "model_id": "a3293a1897664528aa32957ef622707a",
       "version_major": 2,
       "version_minor": 0
      },
      "text/plain": [
       "FigureWidget({\n",
       "    'data': [{'hovertemplate': 'variable=ρr<br>Wavelength=%{x}<br>value=%{y}<extra></extra>',\n",
       " …"
      ]
     },
     "metadata": {},
     "output_type": "display_data"
    }
   ],
   "source": [
    "model['plot_rho'](ρ, out.params)"
   ]
  }
 ],
 "metadata": {
  "kernelspec": {
   "display_name": "Python 3",
   "language": "python",
   "name": "python3"
  },
  "language_info": {
   "codemirror_mode": {
    "name": "ipython",
    "version": 3
   },
   "file_extension": ".py",
   "mimetype": "text/x-python",
   "name": "python",
   "nbconvert_exporter": "python",
   "pygments_lexer": "ipython3",
   "version": "3.7.10"
  }
 },
 "nbformat": 4,
 "nbformat_minor": 5
}
