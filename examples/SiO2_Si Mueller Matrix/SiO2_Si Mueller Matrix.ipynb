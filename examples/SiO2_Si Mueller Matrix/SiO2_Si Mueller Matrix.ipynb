{
 "cells": [
  {
   "cell_type": "code",
   "execution_count": 9,
   "id": "55bce57a-ddc5-4088-97c2-e34587a9094e",
   "metadata": {},
   "outputs": [],
   "source": [
    "import berreman4x4 as bm"
   ]
  },
  {
   "cell_type": "code",
   "execution_count": 2,
   "id": "d5099d9f-a817-4384-8b1a-3b14b8648c01",
   "metadata": {},
   "outputs": [],
   "source": [
    "MM = bm.SpectraRay.read_mmatrix('Wafer_MM_70.txt').loc[210:820]"
   ]
  },
  {
   "cell_type": "code",
   "execution_count": 3,
   "id": "fb3b5352-2dc5-4421-a97a-32e965d865a9",
   "metadata": {},
   "outputs": [],
   "source": [
    "params = bm.ParamsHist()\n",
    "params.add('SiO2_n0', value=1.452, min=-100, max=100, vary=True)\n",
    "params.add('SiO2_n1', value=36.0, min=-40000, max=40000, vary=True)\n",
    "params.add('SiO2_n2', value=0, min=-40000, max=40000, vary=True)\n",
    "params.add('SiO2_k0', value=0, min=-100, max=100, vary=True)\n",
    "params.add('SiO2_k1', value=0, min=-40000, max=40000, vary=True)\n",
    "params.add('SiO2_k2', value=0, min=-40000, max=40000, vary=True)\n",
    "params.add('SiO2_d', value=120, min=0, max=40000, vary=True)"
   ]
  },
  {
   "cell_type": "code",
   "execution_count": 4,
   "id": "bad60bc6-3d81-47ef-9742-35cbdb7473b9",
   "metadata": {},
   "outputs": [
    {
     "data": {
      "application/vnd.jupyter.widget-view+json": {
       "model_id": "a4782a3cdc154364bf41ca889c5bbf2a",
       "version_major": 2,
       "version_minor": 0
      },
      "text/plain": [
       "VBox(children=(HBox(children=(BoundedFloatText(value=1.452, description='SiO2_n0', min=-100.0), BoundedFloatTe…"
      ]
     },
     "metadata": {},
     "output_type": "display_data"
    }
   ],
   "source": [
    "@bm.fit_mueller_matrix(MM, params, display_single=False)\n",
    "def model(lbda, params):\n",
    "    sr = bm.SpectraRay('./')\n",
    "    Si = bm.IsotropicMaterial(sr.loadDispersionTable('Si_Aspnes.mat'))\n",
    "\n",
    "    SiO2 = bm.IsotropicMaterial(bm.DispersionCauchy(params['SiO2_n0'], \n",
    "                                                    params['SiO2_n1'], \n",
    "                                                    params['SiO2_n2'], \n",
    "                                                    params['SiO2_k0'], \n",
    "                                                    params['SiO2_k1'], \n",
    "                                                    params['SiO2_k2']))\n",
    "    \n",
    "    Layer = [bm.Layer(SiO2, params['SiO2_d'])]\n",
    "    \n",
    "    return bm.Structure(bm.AIR, Layer, Si).evaluate(lbda, 70, solver=bm.Solver4x4, propagator=bm.PropagatorExpmTorch())"
   ]
  },
  {
   "cell_type": "code",
   "execution_count": 7,
   "id": "dc1ca09c-b0a6-4ce5-8715-fed86f1da48f",
   "metadata": {},
   "outputs": [
    {
     "data": {
      "text/html": [
       "<h2>Fit Statistics</h2><table><tr><td>fitting method</td><td>leastsq</td><td></td></tr><tr><td># function evals</td><td>107</td><td></td></tr><tr><td># data points</td><td>22336</td><td></td></tr><tr><td># variables</td><td>7</td><td></td></tr><tr><td>chi-square</td><td> 3.00724141</td><td></td></tr><tr><td>reduced chi-square</td><td> 1.3468e-04</td><td></td></tr><tr><td>Akaike info crit.</td><td>-199065.245</td><td></td></tr><tr><td>Bayesian info crit.</td><td>-199009.148</td><td></td></tr></table><h2>Variables</h2><table><tr><th> name </th><th> value </th><th> standard error </th><th> relative error </th><th> initial value </th><th> min </th><th> max </th><th> vary </th></tr><tr><td> SiO2_n0 </td><td>  1.45271086 </td><td>  5.7283e-04 </td><td> (0.04%) </td><td> 1.452 </td><td> -100.000000 </td><td>  100.000000 </td><td> True </td></tr><tr><td> SiO2_n1 </td><td>  30.7218876 </td><td>  0.55071930 </td><td> (1.79%) </td><td> 36.0 </td><td> -40000.0000 </td><td>  40000.0000 </td><td> True </td></tr><tr><td> SiO2_n2 </td><td>  3.41046901 </td><td>  0.25306851 </td><td> (7.42%) </td><td> 0 </td><td> -40000.0000 </td><td>  40000.0000 </td><td> True </td></tr><tr><td> SiO2_k0 </td><td>  0.00393836 </td><td>  5.7843e-04 </td><td> (14.69%) </td><td> 0 </td><td> -100.000000 </td><td>  100.000000 </td><td> True </td></tr><tr><td> SiO2_k1 </td><td> -6.96299598 </td><td>  0.91850115 </td><td> (13.19%) </td><td> 0 </td><td> -40000.0000 </td><td>  40000.0000 </td><td> True </td></tr><tr><td> SiO2_k2 </td><td>  3.16092418 </td><td>  0.36346844 </td><td> (11.50%) </td><td> 0 </td><td> -40000.0000 </td><td>  40000.0000 </td><td> True </td></tr><tr><td> SiO2_d </td><td>  103.560419 </td><td>  0.08979918 </td><td> (0.09%) </td><td> 120 </td><td>  0.00000000 </td><td>  40000.0000 </td><td> True </td></tr></table><h2>Correlations (unreported correlations are < 0.100)</h2><table><tr><td>SiO2_k1</td><td>SiO2_k2</td><td>-0.9755</td></tr><tr><td>SiO2_k0</td><td>SiO2_k1</td><td>-0.9639</td></tr><tr><td>SiO2_n1</td><td>SiO2_n2</td><td>-0.9509</td></tr><tr><td>SiO2_k0</td><td>SiO2_d</td><td>0.9506</td></tr><tr><td>SiO2_n0</td><td>SiO2_d</td><td>-0.9496</td></tr><tr><td>SiO2_n0</td><td>SiO2_k0</td><td>-0.9026</td></tr><tr><td>SiO2_k0</td><td>SiO2_k2</td><td>0.8907</td></tr><tr><td>SiO2_k1</td><td>SiO2_d</td><td>-0.8461</td></tr><tr><td>SiO2_n0</td><td>SiO2_k1</td><td>0.8035</td></tr><tr><td>SiO2_k2</td><td>SiO2_d</td><td>0.7348</td></tr><tr><td>SiO2_n0</td><td>SiO2_k2</td><td>-0.6978</td></tr><tr><td>SiO2_n1</td><td>SiO2_d</td><td>-0.4582</td></tr><tr><td>SiO2_n1</td><td>SiO2_k0</td><td>-0.4355</td></tr><tr><td>SiO2_n1</td><td>SiO2_k1</td><td>0.3877</td></tr><tr><td>SiO2_n1</td><td>SiO2_k2</td><td>-0.3367</td></tr><tr><td>SiO2_n2</td><td>SiO2_d</td><td>0.2265</td></tr><tr><td>SiO2_n2</td><td>SiO2_k0</td><td>0.2153</td></tr><tr><td>SiO2_n2</td><td>SiO2_k1</td><td>-0.1916</td></tr><tr><td>SiO2_n2</td><td>SiO2_k2</td><td>0.1664</td></tr><tr><td>SiO2_n0</td><td>SiO2_n1</td><td>0.1663</td></tr></table>"
      ],
      "text/plain": [
       "<lmfit.minimizer.MinimizerResult at 0x1ff6ffecec8>"
      ]
     },
     "execution_count": 7,
     "metadata": {},
     "output_type": "execute_result"
    }
   ],
   "source": [
    "model.fit()"
   ]
  },
  {
   "cell_type": "code",
   "execution_count": 8,
   "id": "71878507-d611-4507-a011-f5b9029001e9",
   "metadata": {},
   "outputs": [
    {
     "data": {
      "application/vnd.jupyter.widget-view+json": {
       "model_id": "176eba92c39d489e9722e838b4d21b41",
       "version_major": 2,
       "version_minor": 0
      },
      "text/plain": [
       "FigureWidget({\n",
       "    'data': [{'line': {'color': '#636EFA', 'dash': 'solid'},\n",
       "              'name': 'M11 ',\n",
       "    …"
      ]
     },
     "metadata": {},
     "output_type": "display_data"
    }
   ],
   "source": [
    "model.plot()"
   ]
  },
  {
   "cell_type": "code",
   "execution_count": null,
   "id": "86384356-dfdb-4033-946f-976620006609",
   "metadata": {},
   "outputs": [],
   "source": []
  }
 ],
 "metadata": {
  "kernelspec": {
   "display_name": "Python 3 (ipykernel)",
   "language": "python",
   "name": "python3"
  },
  "language_info": {
   "codemirror_mode": {
    "name": "ipython",
    "version": 3
   },
   "file_extension": ".py",
   "mimetype": "text/x-python",
   "name": "python",
   "nbconvert_exporter": "python",
   "pygments_lexer": "ipython3",
   "version": "3.7.12"
  }
 },
 "nbformat": 4,
 "nbformat_minor": 5
}
